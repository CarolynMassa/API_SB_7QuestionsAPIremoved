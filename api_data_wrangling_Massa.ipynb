{
 "cells": [
  {
   "cell_type": "markdown",
   "metadata": {},
   "source": [
    "Carolyn Massa - Springboard Data Scientist Hopeful"
   ]
  },
  {
   "cell_type": "markdown",
   "metadata": {},
   "source": [
    "This exercise will require you to pull some data from the Qunadl API. Qaundl is currently the most widely used aggregator of financial market data."
   ]
  },
  {
   "cell_type": "markdown",
   "metadata": {},
   "source": [
    "As a first step, you will need to register a free account on the http://www.quandl.com website."
   ]
  },
  {
   "cell_type": "markdown",
   "metadata": {},
   "source": [
    "After you register, you will be provided with a unique API key, that you should store:"
   ]
  },
  {
   "cell_type": "code",
   "execution_count": null,
   "metadata": {
    "collapsed": true
   },
   "outputs": [],
   "source": [
    "# Store the API key as a string - according to PEP8, constants are always named in all upper case\n",
    "API_KEY = ''"
   ]
  },
  {
   "cell_type": "markdown",
   "metadata": {},
   "source": [
    "Qaundl has a large number of data sources, but, unfortunately, most of them require a Premium subscription. Still, there are also a good number of free datasets."
   ]
  },
  {
   "cell_type": "markdown",
   "metadata": {},
   "source": [
    "For this mini project, we will focus on equities data from the Frankfurt Stock Exhange (FSE), which is available for free. We'll try and analyze the stock prices of a company called Carl Zeiss Meditec, which manufactures tools for eye examinations, as well as medical lasers for laser eye surgery: https://www.zeiss.com/meditec/int/home.html. The company is listed under the stock ticker AFX_X."
   ]
  },
  {
   "cell_type": "markdown",
   "metadata": {},
   "source": [
    "Keep in mind that the JSON responses you will be getting from the API map almost one-to-one to Python's dictionaries. Unfortunately, they can be very nested, so make sure you read up on indexing dictionaries in the documentation provided above."
   ]
  },
  {
   "cell_type": "code",
   "execution_count": 3,
   "metadata": {},
   "outputs": [],
   "source": [
    "import collections\n",
    "import requests"
   ]
  },
  {
   "cell_type": "code",
   "execution_count": 5,
   "metadata": {},
   "outputs": [
    {
     "data": {
      "text/plain": [
       "['2020-01-09',\n",
       " 118.4,\n",
       " 119.8,\n",
       " 117.5,\n",
       " 119.2,\n",
       " None,\n",
       " 134426.0,\n",
       " 15973124.0,\n",
       " None,\n",
       " None,\n",
       " None]"
      ]
     },
     "execution_count": 5,
     "metadata": {},
     "output_type": "execute_result"
    }
   ],
   "source": [
    "# Now, call the Quandl API and pull out a small sample of the data (only one day) to get a glimpse\n",
    "# into the JSON structure that will be returned\n",
    "r = requests.get('https://www.quandl.com/api/v3/datasets/FSE/AFX_X.json?api_key=93pWUB_EryVbEHPpX6n3')\n",
    "r.json()['dataset']['data'][1]"
   ]
  },
  {
   "cell_type": "code",
   "execution_count": null,
   "metadata": {
    "collapsed": true
   },
   "outputs": [],
   "source": [
    "# Inspect the JSON structure of the object you created, and take note of how nested it is,\n",
    "# as well as the overall structure\n"
   ]
  },
  {
   "cell_type": "markdown",
   "metadata": {},
   "source": [
    "These are your tasks for this mini project:\n",
    "\n",
    "1. Collect data from the Franfurt Stock Exchange, for the ticker AFX_X, for the whole year 2017 (keep in mind that the date format is YYYY-MM-DD).\n",
    "2. Convert the returned JSON object into a Python dictionary.\n",
    "3. Calculate what the highest and lowest opening prices were for the stock in this period.\n",
    "4. What was the largest change in any one day (based on High and Low price)?\n",
    "5. What was the largest change between any two days (based on Closing Price)?\n",
    "6. What was the average daily trading volume during this year?\n",
    "7. (Optional) What was the median trading volume during this year. (Note: you may need to implement your own function for calculating the median.)"
   ]
  },
  {
   "cell_type": "markdown",
   "metadata": {},
   "source": [
    "Step One:  Import data from the Franfurt Stock Exchange, refercing ticker AFX_X, to reflect the entire year of 2017."
   ]
  },
  {
   "cell_type": "code",
   "execution_count": 71,
   "metadata": {},
   "outputs": [],
   "source": [
    "r = requests.get('https://www.quandl.com/api/v3/datasets/FSE/AFX_X.json?&start_date=2017-01-01&end_date=2017-12-31&collapse=monthly&transform=rdiff&api_key=93pWUB_EryVbEHPpX6n3')"
   ]
  },
  {
   "cell_type": "markdown",
   "metadata": {},
   "source": [
    "In this line of code I transform my Quandl dataset to a dataframe"
   ]
  },
  {
   "cell_type": "code",
   "execution_count": 72,
   "metadata": {},
   "outputs": [
    {
     "data": {
      "text/plain": [
       "dict"
      ]
     },
     "execution_count": 72,
     "metadata": {},
     "output_type": "execute_result"
    }
   ],
   "source": [
    "r = r.json()\n",
    "type(r)"
   ]
  },
  {
   "cell_type": "code",
   "execution_count": 73,
   "metadata": {},
   "outputs": [
    {
     "data": {
      "text/plain": [
       "dict_keys(['dataset'])"
      ]
     },
     "execution_count": 73,
     "metadata": {},
     "output_type": "execute_result"
    }
   ],
   "source": [
    "r.keys()"
   ]
  },
  {
   "cell_type": "code",
   "execution_count": 32,
   "metadata": {},
   "outputs": [
    {
     "data": {
      "text/plain": [
       "dict_keys(['id', 'dataset_code', 'database_code', 'name', 'description', 'refreshed_at', 'newest_available_date', 'oldest_available_date', 'column_names', 'frequency', 'type', 'premium', 'limit', 'transform', 'column_index', 'start_date', 'end_date', 'data', 'collapse', 'order', 'database_id'])"
      ]
     },
     "execution_count": 32,
     "metadata": {},
     "output_type": "execute_result"
    }
   ],
   "source": [
    "r['dataset'].keys() #I want to review my keys"
   ]
  },
  {
   "cell_type": "code",
   "execution_count": 74,
   "metadata": {},
   "outputs": [
    {
     "data": {
      "text/plain": [
       "['Date',\n",
       " 'Open',\n",
       " 'High',\n",
       " 'Low',\n",
       " 'Close',\n",
       " 'Change',\n",
       " 'Traded Volume',\n",
       " 'Turnover',\n",
       " 'Last Price of the Day',\n",
       " 'Daily Traded Units',\n",
       " 'Daily Turnover']"
      ]
     },
     "execution_count": 74,
     "metadata": {},
     "output_type": "execute_result"
    }
   ],
   "source": [
    "r['dataset']['column_names'] #I wish to see my column names as well."
   ]
  },
  {
   "cell_type": "markdown",
   "metadata": {},
   "source": [
    "#2 Next I want to display both the highest and lowest opening prices for all of 2017.\n",
    "Map column names ('column_names') from my converted JSON dataset = ('r') to corresponding values in my ('data_list') and then reorganize data into a python dictionary = ('r_dict') for the  analysis"
   ]
  },
  {
   "cell_type": "code",
   "execution_count": 75,
   "metadata": {},
   "outputs": [
    {
     "data": {
      "text/plain": [
       "{0: OrderedDict([('Date', '2017-12-31'),\n",
       "              ('Open', 0.064144736842105),\n",
       "              ('High', 0.042134831460674),\n",
       "              ('Low', 0.065658657829329),\n",
       "              ('Close', 0.041448692152917),\n",
       "              ('Change', None),\n",
       "              ('Traded Volume', -0.71841748022663),\n",
       "              ('Turnover', -0.70546365911492),\n",
       "              ('Last Price of the Day', None),\n",
       "              ('Daily Traded Units', None),\n",
       "              ('Daily Turnover', None)]),\n",
       " 1: OrderedDict([('Date', '2017-11-30'),\n",
       "              ('Open', 0.045347087900279),\n",
       "              ('High', 0.068381564844588),\n",
       "              ('Low', 0.058539793904846),\n",
       "              ('Close', 0.086101398601399),\n",
       "              ('Change', None),\n",
       "              ('Traded Volume', 1.1871988621211),\n",
       "              ('Turnover', 1.3536698619206),\n",
       "              ('Last Price of the Day', None),\n",
       "              ('Daily Traded Units', None),\n",
       "              ('Daily Turnover', None)]),\n",
       " 2: OrderedDict([('Date', '2017-10-31'),\n",
       "              ('Open', 0.067691601652134),\n",
       "              ('High', 0.056146705908988),\n",
       "              ('Low', 0.053348729792148),\n",
       "              ('Close', 0.035997283223908),\n",
       "              ('Change', None),\n",
       "              ('Traded Volume', -0.43654140912233),\n",
       "              ('Turnover', -0.41037234115339),\n",
       "              ('Last Price of the Day', None),\n",
       "              ('Daily Traded Units', None),\n",
       "              ('Daily Turnover', None)]),\n",
       " 3: OrderedDict([('Date', '2017-09-30'),\n",
       "              ('Open', 0.037619047619048),\n",
       "              ('High', 0.049667300380228),\n",
       "              ('Low', 0.053015564202335),\n",
       "              ('Close', 0.05417661097852),\n",
       "              ('Change', None),\n",
       "              ('Traded Volume', -0.36777335832996),\n",
       "              ('Turnover', -0.33363788334701),\n",
       "              ('Last Price of the Day', None),\n",
       "              ('Daily Traded Units', None),\n",
       "              ('Daily Turnover', None)]),\n",
       " 4: OrderedDict([('Date', '2017-08-31'),\n",
       "              ('Open', -0.065420560747664),\n",
       "              ('High', -0.080218579234973),\n",
       "              ('Low', -0.085002225189141),\n",
       "              ('Close', -0.075055187637969),\n",
       "              ('Change', None),\n",
       "              ('Traded Volume', 1.519274955323),\n",
       "              ('Turnover', 1.3135422489901),\n",
       "              ('Last Price of the Day', None),\n",
       "              ('Daily Traded Units', None),\n",
       "              ('Daily Turnover', None)]),\n",
       " 5: OrderedDict([('Date', '2017-07-31'),\n",
       "              ('Open', -0.0015552099533437),\n",
       "              ('High', 0.00021862702229991),\n",
       "              ('Low', -0.0013333333333334),\n",
       "              ('Close', -0.003080985915493),\n",
       "              ('Change', None),\n",
       "              ('Traded Volume', -0.53955566004467),\n",
       "              ('Turnover', -0.54030354534917),\n",
       "              ('Last Price of the Day', None),\n",
       "              ('Daily Traded Units', None),\n",
       "              ('Daily Turnover', None)]),\n",
       " 6: OrderedDict([('Date', '2017-06-30'),\n",
       "              ('Open', -0.0046439628482972),\n",
       "              ('High', -0.011240812797233),\n",
       "              ('Low', -0.0048651039363113),\n",
       "              ('Close', -0.0091583078935892),\n",
       "              ('Change', None),\n",
       "              ('Traded Volume', 259.75095785441),\n",
       "              ('Turnover', 256.32606887373),\n",
       "              ('Last Price of the Day', None),\n",
       "              ('Daily Traded Units', None),\n",
       "              ('Daily Turnover', None)]),\n",
       " 7: OrderedDict([('Date', '2017-05-31'),\n",
       "              ('Open', 0.072326298316339),\n",
       "              ('High', 0.09491124260355),\n",
       "              ('Low', 0.085453672587614),\n",
       "              ('Close', 0.099232981783317),\n",
       "              ('Change', None),\n",
       "              ('Traded Volume', -0.9939546949553),\n",
       "              ('Turnover', -0.99333331300018),\n",
       "              ('Last Price of the Day', None),\n",
       "              ('Daily Traded Units', None),\n",
       "              ('Daily Turnover', None)]),\n",
       " 8: OrderedDict([('Date', '2017-04-30'),\n",
       "              ('Open', 0.06034699522253),\n",
       "              ('High', 0.054404791614674),\n",
       "              ('Low', 0.056823947234906),\n",
       "              ('Close', 0.04352176088044),\n",
       "              ('Change', None),\n",
       "              ('Traded Volume', -0.094713887316265),\n",
       "              ('Turnover', -0.049662442843475),\n",
       "              ('Last Price of the Day', None),\n",
       "              ('Daily Traded Units', None),\n",
       "              ('Daily Turnover', None)]),\n",
       " 9: OrderedDict([('Date', '2017-03-31'),\n",
       "              ('Open', -0.015106488360575),\n",
       "              ('High', -0.021489621489622),\n",
       "              ('Low', -0.023774145616642),\n",
       "              ('Close', -0.02105778648384),\n",
       "              ('Change', None),\n",
       "              ('Traded Volume', 0.41432384341637),\n",
       "              ('Turnover', 0.38152377256589),\n",
       "              ('Last Price of the Day', None),\n",
       "              ('Daily Traded Units', None),\n",
       "              ('Daily Turnover', None)]),\n",
       " 10: OrderedDict([('Date', '2017-02-28'),\n",
       "              ('Open', 0.14585698070375),\n",
       "              ('High', 0.16203178206583),\n",
       "              ('Low', 0.16840277777778),\n",
       "              ('Close', 0.18171296296296),\n",
       "              ('Change', None),\n",
       "              ('Traded Volume', 0.064209180855596),\n",
       "              ('Turnover', 0.24887808280024),\n",
       "              ('Last Price of the Day', None),\n",
       "              ('Daily Traded Units', None),\n",
       "              ('Daily Turnover', None)])}"
      ]
     },
     "execution_count": 75,
     "metadata": {},
     "output_type": "execute_result"
    }
   ],
   "source": [
    "column_names = r['dataset']['column_names'] # names of the columns\n",
    "data_list = r['dataset']['data'] # corresponding values\n",
    "\n",
    "r_dict = {} \n",
    "for num in range(len(data_list)): \n",
    "    r_dict[num] = collections.OrderedDict(zip(column_names,data_list[num]))\n",
    "    \n",
    "r_dict # dictionary of column names mapped to values\n"
   ]
  },
  {
   "cell_type": "markdown",
   "metadata": {},
   "source": [
    "#3  Display the highest and lowest opening prices from 2017"
   ]
  },
  {
   "cell_type": "code",
   "execution_count": 9,
   "metadata": {},
   "outputs": [
    {
     "name": "stdout",
     "output_type": "stream",
     "text": [
      "Highest opening price:  0.14585698070375\n",
      "Lowest opening price:  -0.065420560747664\n"
     ]
    }
   ],
   "source": [
    "opening_prices = [r_dict[num]['Open'] for num in r_dict] # 1st call all opening prices in year 2017\n",
    "\n",
    "print('Highest opening price: ', max(opening_prices))\n",
    "print('Lowest opening price: ', min(opening_prices))"
   ]
  },
  {
   "cell_type": "markdown",
   "metadata": {},
   "source": [
    "#4 Display the largest change in a day (based on High and Low prices)."
   ]
  },
  {
   "cell_type": "code",
   "execution_count": 35,
   "metadata": {},
   "outputs": [
    {
     "name": "stdout",
     "output_type": "stream",
     "text": [
      "Largest change in any one day:  0.009841770939742\n"
     ]
    }
   ],
   "source": [
    "H_P = [r_dict[num]['High'] for num in r_dict] # get a list of the highest prices in order in the Dict.\n",
    "L_P = [r_dict[num]['Low'] for num in r_dict] # get a list of lows\n",
    "d_high_low = [high-low for high, low in zip(H_P, L_P)] # subtract high and low for list of differential #'s each day\n",
    "\n",
    "print('Largest change in any one day: ', max(d_high_low)) # take the max of 'diff' for largest daily difference"
   ]
  },
  {
   "cell_type": "markdown",
   "metadata": {},
   "source": [
    "#5 What was the largest change between any two days (based on Closing Price)?"
   ]
  },
  {
   "cell_type": "code",
   "execution_count": 44,
   "metadata": {},
   "outputs": [
    {
     "name": "stdout",
     "output_type": "stream",
     "text": [
      "[0.086101398601399, 0.035997283223908, 0.05417661097852, -0.075055187637969, -0.003080985915493, -0.0091583078935892, 0.099232981783317, 0.04352176088044, -0.02105778648384]\n"
     ]
    }
   ],
   "source": [
    "closing_prices = [r_dict[num]['Close'] for num in r_dict]\n",
    "print(closing_prices[1:-1])"
   ]
  },
  {
   "cell_type": "code",
   "execution_count": 46,
   "metadata": {},
   "outputs": [
    {
     "name": "stdout",
     "output_type": "stream",
     "text": [
      "Largest change between two days:  0.20277074944679999\n"
     ]
    }
   ],
   "source": [
    "closing_prices = [r_dict[num]['Close'] for num in r_dict] \n",
    "d_close_close = [day2-day1 for day1, day2 in zip(closing_prices[1:], closing_prices[:-1])] #I use zip function to subtract\n",
    "max_close_close = max(map(abs, d_close_close)) # taking max diff (only closing prices)\n",
    "\n",
    "print('Largest change between two days: ', max_close_close)"
   ]
  },
  {
   "cell_type": "markdown",
   "metadata": {},
   "source": [
    "#6 What was the average daily trading volume during this year?"
   ]
  },
  {
   "cell_type": "code",
   "execution_count": 51,
   "metadata": {},
   "outputs": [
    {
     "name": "stdout",
     "output_type": "stream",
     "text": [
      "Average daily trading volume:  24.1897201078292\n",
      "11\n"
     ]
    }
   ],
   "source": [
    "tvolume = [r_dict[num]['Traded Volume'] for num in r_dict]\n",
    "tvolume_num = len(volume)\n",
    "tvolume_abs = map(abs, volume)\n",
    "\n",
    "tvolume_avg = sum(tvolume_abs) / tvolume_num #Here I take the total of 11 month trading volume and / by 11\n",
    "print('Average daily trading volume: ', tvolume_avg)\n",
    "\n"
   ]
  },
  {
   "cell_type": "code",
   "execution_count": null,
   "metadata": {},
   "outputs": [],
   "source": [
    "#7 What was the median trading volume during this year? "
   ]
  },
  {
   "cell_type": "code",
   "execution_count": 102,
   "metadata": {},
   "outputs": [],
   "source": [
    "priced = r['dataset']['data']\n",
    "tradedv = r['dataset']['column_names'].index('Traded Volume')\n"
   ]
  },
  {
   "cell_type": "code",
   "execution_count": 95,
   "metadata": {},
   "outputs": [],
   "source": [
    "# I research the median function\n",
    "def median(iterable):\n",
    "    # Guard against empty lists.\n",
    "    if not iterable:\n",
    "        return None\n",
    "    # Sort the data.\n",
    "    s = sorted(iterable)\n",
    "    # Find the middle value. I ensure it works on both even and odd and use floor div to drop any remainders\n",
    "    middle = (s[(len(s) - 1) // 2] + s[len(s) // 2]) / 2\n",
    "    return middle\n",
    "\n",
    "# Let's run a few tests.\n",
    "assert median([5, 3, 2]) == 3\n",
    "assert median([4]) == 4\n",
    "assert median([8, 7, 8, 7]) == 7.5\n",
    "assert median([]) == None"
   ]
  },
  {
   "cell_type": "code",
   "execution_count": 103,
   "metadata": {},
   "outputs": [
    {
     "data": {
      "text/plain": [
       "-0.094713887316265"
      ]
     },
     "execution_count": 103,
     "metadata": {},
     "output_type": "execute_result"
    }
   ],
   "source": [
    "MTV = median([date[tradedv] for date in priced])\n",
    "MTV"
   ]
  },
  {
   "cell_type": "code",
   "execution_count": null,
   "metadata": {},
   "outputs": [],
   "source": []
  }
 ],
 "metadata": {
  "kernelspec": {
   "display_name": "Python 3",
   "language": "python",
   "name": "python3"
  },
  "language_info": {
   "codemirror_mode": {
    "name": "ipython",
    "version": 3
   },
   "file_extension": ".py",
   "mimetype": "text/x-python",
   "name": "python",
   "nbconvert_exporter": "python",
   "pygments_lexer": "ipython3",
   "version": "3.7.4"
  }
 },
 "nbformat": 4,
 "nbformat_minor": 2
}
